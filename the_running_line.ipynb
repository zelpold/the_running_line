{
  "nbformat": 4,
  "nbformat_minor": 0,
  "metadata": {
    "colab": {
      "provenance": []
    },
    "kernelspec": {
      "name": "python3",
      "display_name": "Python 3"
    },
    "language_info": {
      "name": "python"
    }
  },
  "cells": [
    {
      "cell_type": "code",
      "execution_count": null,
      "metadata": {
        "id": "dhXeOOoCYwnv"
      },
      "outputs": [],
      "source": [
        "import cv2\n",
        "import numpy as np\n",
        "from PIL import ImageFont, Image, ImageDraw\n",
        "\n",
        "\n",
        "def create_video_opencv(message, width=100, height=100, fps=24, time=3):\n",
        "    out_video = cv2.VideoWriter(\"video.mp4\", cv2.VideoWriter_fourcc(*'mp4v'), fps, (width, height))\n",
        "    x, y = width, height//4\n",
        "    font = ImageFont.truetype(\"Uni_Sans_Heavy.otf\", height-height//4)\n",
        "    for t in range(fps * time):\n",
        "        img_with_text = Image.new(mode=\"RGB\", size=(width, height), color=(209, 123, 193))\n",
        "        x -= (font.getlength(message)+20)//(fps * time)\n",
        "        draw = ImageDraw.Draw(img_with_text)\n",
        "        draw.text((x, y), message, (255, 255, 255), font=font)\n",
        "        frame = cv2.cvtColor(np.array(img_with_text), cv2.COLOR_RGB2BGR)\n",
        "        out_video.write(frame)\n",
        "    out_video.release()\n",
        "\n",
        "\n",
        "create_video_opencv(\"some_Text для воспроизведения\")\n"
      ]
    }
  ]
}